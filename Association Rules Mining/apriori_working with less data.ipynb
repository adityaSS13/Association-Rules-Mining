{
 "cells": [
  {
   "cell_type": "code",
   "execution_count": 10,
   "id": "5ba0f2a3",
   "metadata": {},
   "outputs": [],
   "source": [
    "import pandas as pd\n",
    "\n",
    "data = pd.read_csv('data.csv')\n",
    "data = data.head()"
   ]
  },
  {
   "cell_type": "code",
   "execution_count": 11,
   "id": "442a402b",
   "metadata": {},
   "outputs": [
    {
     "name": "stdout",
     "output_type": "stream",
     "text": [
      "[[40.297875899999994, -75.5812935, 'REINDEER CT & DEAD END;  NEW HANOVER; Station 332; 2015-12-10 @ 17:10:52;', 19525.0, 'EMS: BACK PAINS/INJURY', '2015-12-10 17:10:52', 'NEW HANOVER', 'REINDEER CT & DEAD END', 'EMS', 'BACK PAINS/INJURY', 'winter', 'evening', 'weekday'], [40.2580614, -75.26467990000002, 'BRIAR PATH & WHITEMARSH LN;  HATFIELD TOWNSHIP; Station 345; 2015-12-10 @ 17:29:21;', 19446.0, 'EMS: DIABETIC EMERGENCY', '2015-12-10 17:29:21', 'HATFIELD TOWNSHIP', 'BRIAR PATH & WHITEMARSH LN', 'EMS', 'DIABETIC EMERGENCY', 'winter', 'evening', 'weekday'], [40.121181799999995, -75.3519752, 'HAWS AVE; NORRISTOWN; 2015-12-10 @ 14:39:21-Station:STA27;', 19401.0, 'Fire: GAS-ODOR/LEAK', '2015-12-10 14:39:21', 'NORRISTOWN', 'HAWS AVE', 'Fire', 'GAS-ODOR/LEAK', 'winter', 'afternoon', 'weekday'], [40.116153000000004, -75.343513, 'AIRY ST & SWEDE ST;  NORRISTOWN; Station 308A; 2015-12-10 @ 16:47:36;', 19401.0, 'EMS: CARDIAC EMERGENCY', '2015-12-10 16:47:36', 'NORRISTOWN', 'AIRY ST & SWEDE ST', 'EMS', 'CARDIAC EMERGENCY', 'winter', 'afternoon', 'weekday'], [40.251492, -75.6033497, 'CHERRYWOOD CT & DEAD END;  LOWER POTTSGROVE; Station 329; 2015-12-10 @ 16:56:52;', nan, 'EMS: DIZZINESS', '2015-12-10 16:56:52', 'LOWER POTTSGROVE', 'CHERRYWOOD CT & DEAD END', 'EMS', 'DIZZINESS', 'winter', 'afternoon', 'weekday']]\n"
     ]
    }
   ],
   "source": [
    "data = data.values.tolist()\n",
    "print(data)"
   ]
  },
  {
   "cell_type": "code",
   "execution_count": null,
   "id": "9190e7c3",
   "metadata": {},
   "outputs": [],
   "source": []
  },
  {
   "cell_type": "code",
   "execution_count": 15,
   "id": "f75d8bfb",
   "metadata": {},
   "outputs": [
    {
     "name": "stdout",
     "output_type": "stream",
     "text": [
      "Rule: ['winter'] => ['EMS'] (Confidence: 0.8)\n",
      "Rule: ['EMS'] => ['winter'] (Confidence: 1.0)\n",
      "Rule: ['EMS'] => ['weekday'] (Confidence: 1.0)\n",
      "Rule: ['weekday'] => ['EMS'] (Confidence: 0.8)\n",
      "Rule: ['winter'] => ['weekday'] (Confidence: 1.0)\n",
      "Rule: ['weekday'] => ['winter'] (Confidence: 1.0)\n",
      "Rule: ['afternoon'] => ['winter'] (Confidence: 1.0)\n",
      "Rule: ['winter'] => ['afternoon'] (Confidence: 0.6)\n",
      "Rule: ['afternoon'] => ['weekday'] (Confidence: 1.0)\n",
      "Rule: ['weekday'] => ['afternoon'] (Confidence: 0.6)\n",
      "Rule: ['winter'] => ['EMS', 'weekday'] (Confidence: 0.8)\n",
      "Rule: ['EMS'] => ['winter', 'weekday'] (Confidence: 1.0)\n",
      "Rule: ['weekday'] => ['winter', 'EMS'] (Confidence: 0.8)\n",
      "Rule: ['winter', 'EMS'] => ['weekday'] (Confidence: 1.0)\n",
      "Rule: ['winter', 'weekday'] => ['EMS'] (Confidence: 0.8)\n",
      "Rule: ['EMS', 'weekday'] => ['winter'] (Confidence: 1.0)\n",
      "Rule: ['afternoon'] => ['winter', 'weekday'] (Confidence: 1.0)\n",
      "Rule: ['winter'] => ['afternoon', 'weekday'] (Confidence: 0.6)\n",
      "Rule: ['weekday'] => ['afternoon', 'winter'] (Confidence: 0.6)\n",
      "Rule: ['afternoon', 'winter'] => ['weekday'] (Confidence: 1.0)\n",
      "Rule: ['afternoon', 'weekday'] => ['winter'] (Confidence: 1.0)\n",
      "Rule: ['winter', 'weekday'] => ['afternoon'] (Confidence: 0.6)\n"
     ]
    }
   ],
   "source": [
    "from collections import defaultdict\n",
    "from itertools import chain, combinations\n",
    "\n",
    "def count_support(data, candidates):\n",
    "    counts = defaultdict(int)\n",
    "    for transaction in data:\n",
    "        for candidate in candidates:\n",
    "            if candidate.issubset(transaction):\n",
    "                counts[candidate] += 1\n",
    "    return counts\n",
    "\n",
    "def generate_candidates(Lk, k):\n",
    "    candidates = []\n",
    "    for i in range(len(Lk)):\n",
    "        for j in range(i + 1, len(Lk)):\n",
    "            union_set = Lk[i].union(Lk[j])\n",
    "            if len(union_set) == k:\n",
    "                candidates.append(union_set)\n",
    "    return candidates\n",
    "\n",
    "def generate_frequent_itemsets(data, min_support):\n",
    "    items = list(set(chain(*data)))\n",
    "    C1 = [frozenset([item]) for item in items]\n",
    "    transactions = [set(transaction) for transaction in data]\n",
    "\n",
    "    candidate_counts = count_support(transactions, C1)\n",
    "    L = [item for item, count in candidate_counts.items() if count >= min_support]\n",
    "    k = 2\n",
    "    frequent_itemsets = L\n",
    "    while L:\n",
    "        candidates = generate_candidates(L, k)\n",
    "        candidate_counts = count_support(transactions, candidates)\n",
    "        L = [item for item, count in candidate_counts.items() if count >= min_support]\n",
    "        frequent_itemsets.extend(L)\n",
    "        k += 1\n",
    "\n",
    "    return frequent_itemsets\n",
    "\n",
    "def generate_rules(data, min_support, min_confidence):\n",
    "    frequent_itemsets = generate_frequent_itemsets(data, min_support)\n",
    "    transactions = [set(transaction) for transaction in data]\n",
    "    candidate_counts = count_support(transactions, frequent_itemsets)\n",
    "    for itemset in frequent_itemsets:\n",
    "        if len(itemset) > 1:\n",
    "            for Lk_minus_1 in range(1, len(itemset)):\n",
    "                for subset in combinations(itemset, Lk_minus_1):\n",
    "                    remain = itemset.difference(subset)\n",
    "                    support_itemset = candidate_counts.get(itemset, 0)\n",
    "                    support_subset = candidate_counts.get(frozenset(subset), 0)\n",
    "                    if (\n",
    "                        support_itemset >= min_support \n",
    "                        and support_subset > 0 \n",
    "                        and support_itemset / support_subset >= min_confidence\n",
    "                    ):\n",
    "                        print(f\"Rule: {list(subset)} => {list(remain)} (Confidence: {support_itemset / support_subset})\")\n",
    "\n",
    "\n",
    "min_support = 3\n",
    "min_confidence = 0.5\n",
    "generate_rules(data, min_support, min_confidence)\n"
   ]
  },
  {
   "cell_type": "code",
   "execution_count": null,
   "id": "cad0d1ce",
   "metadata": {},
   "outputs": [],
   "source": []
  },
  {
   "cell_type": "code",
   "execution_count": null,
   "id": "a5bc6358",
   "metadata": {},
   "outputs": [],
   "source": []
  },
  {
   "cell_type": "code",
   "execution_count": null,
   "id": "60c51d3b",
   "metadata": {},
   "outputs": [],
   "source": []
  },
  {
   "cell_type": "code",
   "execution_count": null,
   "id": "5f580e50",
   "metadata": {},
   "outputs": [],
   "source": []
  }
 ],
 "metadata": {
  "kernelspec": {
   "display_name": "Python 3",
   "language": "python",
   "name": "python3"
  },
  "language_info": {
   "codemirror_mode": {
    "name": "ipython",
    "version": 3
   },
   "file_extension": ".py",
   "mimetype": "text/x-python",
   "name": "python",
   "nbconvert_exporter": "python",
   "pygments_lexer": "ipython3",
   "version": "3.7.16"
  }
 },
 "nbformat": 4,
 "nbformat_minor": 5
}
